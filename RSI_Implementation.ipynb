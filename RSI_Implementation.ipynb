{
 "cells": [
  {
   "cell_type": "code",
   "execution_count": 1,
   "id": "59ef6c2e",
   "metadata": {},
   "outputs": [],
   "source": [
    "import pandas as pd\n",
    "# Load our sample CSV data as DataFrame\n",
    "df = pd.read_csv('wilder-rsi-data.csv', header=0).set_index(['period'])\n"
   ]
  },
  {
   "cell_type": "code",
   "execution_count": 2,
   "id": "baad830d",
   "metadata": {},
   "outputs": [
    {
     "name": "stdout",
     "output_type": "stream",
     "text": [
      "        price\n",
      "period       \n",
      "1       54.80\n",
      "2       56.80\n",
      "3       57.85\n",
      "4       59.85\n",
      "5       60.57\n"
     ]
    }
   ],
   "source": [
    "# View the result\n",
    "print(df.head())\n"
   ]
  },
  {
   "cell_type": "code",
   "execution_count": 3,
   "id": "d740af85",
   "metadata": {},
   "outputs": [
    {
     "name": "stdout",
     "output_type": "stream",
     "text": [
      "<class 'pandas.core.frame.DataFrame'>\n",
      "Int64Index: 38 entries, 1 to 38\n",
      "Data columns (total 1 columns):\n",
      " #   Column  Non-Null Count  Dtype  \n",
      "---  ------  --------------  -----  \n",
      " 0   price   38 non-null     float64\n",
      "dtypes: float64(1)\n",
      "memory usage: 608.0 bytes\n",
      "None\n"
     ]
    }
   ],
   "source": [
    "# View summary\n",
    "print(df.info())"
   ]
  },
  {
   "cell_type": "code",
   "execution_count": 4,
   "id": "49e3da8a",
   "metadata": {},
   "outputs": [
    {
     "name": "stdout",
     "output_type": "stream",
     "text": [
      "        price  diff\n",
      "period             \n",
      "1       54.80   NaN\n",
      "2       56.80  2.00\n",
      "3       57.85  1.05\n",
      "4       59.85  2.00\n",
      "5       60.57  0.72\n",
      "6       61.10  0.53\n",
      "7       62.17  1.07\n",
      "8       60.60 -1.57\n",
      "9       62.35  1.75\n",
      "10      62.15 -0.20\n",
      "11      62.35  0.20\n",
      "12      61.45 -0.90\n",
      "13      62.80  1.35\n",
      "14      61.37 -1.43\n",
      "15      62.50  1.13\n",
      "16      62.57  0.07\n",
      "17      60.80 -1.77\n",
      "18      59.37 -1.43\n",
      "19      60.35  0.98\n",
      "20      62.35  2.00\n",
      "21      62.17 -0.18\n",
      "22      62.55  0.38\n",
      "23      64.55  2.00\n",
      "24      64.37 -0.18\n",
      "25      65.30  0.93\n",
      "26      64.42 -0.88\n",
      "27      62.90 -1.52\n",
      "28      61.60 -1.30\n",
      "29      62.05  0.45\n",
      "30      60.05 -2.00\n",
      "31      59.70 -0.35\n",
      "32      60.90  1.20\n",
      "33      60.25 -0.65\n",
      "34      58.27 -1.98\n",
      "35      58.70  0.43\n",
      "36      57.72 -0.98\n",
      "37      58.10  0.38\n",
      "38      58.20  0.10\n"
     ]
    }
   ],
   "source": [
    "# Calculate Price Differences\n",
    "df['diff'] = df.diff(1)\n",
    "# View Results\n",
    "print(df)"
   ]
  },
  {
   "cell_type": "code",
   "execution_count": 5,
   "id": "66cc05ff",
   "metadata": {},
   "outputs": [
    {
     "name": "stdout",
     "output_type": "stream",
     "text": [
      "        price  diff  gain  loss\n",
      "period                         \n",
      "1       54.80   NaN   NaN   NaN\n",
      "2       56.80  2.00  2.00  0.00\n",
      "3       57.85  1.05  1.05  0.00\n",
      "4       59.85  2.00  2.00  0.00\n",
      "5       60.57  0.72  0.72  0.00\n",
      "6       61.10  0.53  0.53  0.00\n",
      "7       62.17  1.07  1.07  0.00\n",
      "8       60.60 -1.57  0.00  1.57\n",
      "9       62.35  1.75  1.75  0.00\n",
      "10      62.15 -0.20  0.00  0.20\n",
      "11      62.35  0.20  0.20  0.00\n",
      "12      61.45 -0.90  0.00  0.90\n",
      "13      62.80  1.35  1.35  0.00\n",
      "14      61.37 -1.43  0.00  1.43\n",
      "15      62.50  1.13  1.13  0.00\n",
      "16      62.57  0.07  0.07  0.00\n",
      "17      60.80 -1.77  0.00  1.77\n",
      "18      59.37 -1.43  0.00  1.43\n",
      "19      60.35  0.98  0.98  0.00\n",
      "20      62.35  2.00  2.00  0.00\n",
      "21      62.17 -0.18  0.00  0.18\n",
      "22      62.55  0.38  0.38  0.00\n",
      "23      64.55  2.00  2.00  0.00\n",
      "24      64.37 -0.18  0.00  0.18\n",
      "25      65.30  0.93  0.93  0.00\n",
      "26      64.42 -0.88  0.00  0.88\n",
      "27      62.90 -1.52  0.00  1.52\n",
      "28      61.60 -1.30  0.00  1.30\n",
      "29      62.05  0.45  0.45  0.00\n",
      "30      60.05 -2.00  0.00  2.00\n",
      "31      59.70 -0.35  0.00  0.35\n",
      "32      60.90  1.20  1.20  0.00\n",
      "33      60.25 -0.65  0.00  0.65\n",
      "34      58.27 -1.98  0.00  1.98\n",
      "35      58.70  0.43  0.43  0.00\n",
      "36      57.72 -0.98  0.00  0.98\n",
      "37      58.10  0.38  0.38  0.00\n",
      "38      58.20  0.10  0.10  0.00\n"
     ]
    }
   ],
   "source": [
    "# Calculate Avg. Gains/Losses\n",
    "df['gain'] = df['diff'].clip(lower=0).round(2)\n",
    "df['loss'] = df['diff'].clip(upper=0).abs().round(2)\n",
    "# View Result\n",
    "print(df)"
   ]
  },
  {
   "cell_type": "code",
   "execution_count": 6,
   "id": "cd315998",
   "metadata": {},
   "outputs": [],
   "source": [
    "# Get initial Averages\n",
    "window_length = 14\n",
    "\n",
    "df['avg_gain'] = df['gain'].rolling(window=window_length, min_periods=window_length).mean()[:window_length+1]\n",
    "df['avg_loss'] = df['loss'].rolling(window=window_length, min_periods=window_length).mean()[:window_length+1]"
   ]
  },
  {
   "cell_type": "code",
   "execution_count": 7,
   "id": "db3c7f4b",
   "metadata": {},
   "outputs": [
    {
     "name": "stdout",
     "output_type": "stream",
     "text": [
      "        price  diff  gain  loss  avg_gain  avg_loss\n",
      "period                                             \n",
      "14      61.37 -1.43  0.00  1.43       NaN       NaN\n",
      "15      62.50  1.13  1.13  0.00  0.842857  0.292857\n",
      "16      62.57  0.07  0.07  0.00  0.787653  0.271939\n",
      "17      60.80 -1.77  0.00  1.77  0.731392  0.378943\n",
      "18      59.37 -1.43  0.00  1.43  0.679150  0.454019\n",
      "19      60.35  0.98  0.98  0.00  0.700639  0.421589\n"
     ]
    }
   ],
   "source": [
    "# Get WMS averages\n",
    "# Average Gains\n",
    "for i, row in enumerate(df['avg_gain'].iloc[window_length+1:]):\n",
    "    df['avg_gain'].iloc[i + window_length + 1] =\\\n",
    "        (df['avg_gain'].iloc[i + window_length] *\n",
    "         (window_length - 1) +\n",
    "         df['gain'].iloc[i + window_length + 1])\\\n",
    "        / window_length\n",
    "# Average Losses\n",
    "for i, row in enumerate(df['avg_loss'].iloc[window_length+1:]):\n",
    "    df['avg_loss'].iloc[i + window_length + 1] =\\\n",
    "        (df['avg_loss'].iloc[i + window_length] *\n",
    "         (window_length - 1) +\n",
    "         df['loss'].iloc[i + window_length + 1])\\\n",
    "        / window_length\n",
    "# View initial results\n",
    "print(df[window_length-1:window_length+5])"
   ]
  },
  {
   "cell_type": "code",
   "execution_count": 8,
   "id": "215a3301",
   "metadata": {},
   "outputs": [],
   "source": [
    "# Calculate RS Values\n",
    "df['rs'] = df['avg_gain'] / df['avg_loss']"
   ]
  },
  {
   "cell_type": "code",
   "execution_count": 9,
   "id": "c81371f8",
   "metadata": {},
   "outputs": [
    {
     "name": "stdout",
     "output_type": "stream",
     "text": [
      "        price  diff  gain  loss  avg_gain  avg_loss        rs        rsi\n",
      "period                                                                  \n",
      "1       54.80   NaN   NaN   NaN       NaN       NaN       NaN        NaN\n",
      "2       56.80  2.00  2.00  0.00       NaN       NaN       NaN        NaN\n",
      "3       57.85  1.05  1.05  0.00       NaN       NaN       NaN        NaN\n",
      "4       59.85  2.00  2.00  0.00       NaN       NaN       NaN        NaN\n",
      "5       60.57  0.72  0.72  0.00       NaN       NaN       NaN        NaN\n",
      "6       61.10  0.53  0.53  0.00       NaN       NaN       NaN        NaN\n",
      "7       62.17  1.07  1.07  0.00       NaN       NaN       NaN        NaN\n",
      "8       60.60 -1.57  0.00  1.57       NaN       NaN       NaN        NaN\n",
      "9       62.35  1.75  1.75  0.00       NaN       NaN       NaN        NaN\n",
      "10      62.15 -0.20  0.00  0.20       NaN       NaN       NaN        NaN\n",
      "11      62.35  0.20  0.20  0.00       NaN       NaN       NaN        NaN\n",
      "12      61.45 -0.90  0.00  0.90       NaN       NaN       NaN        NaN\n",
      "13      62.80  1.35  1.35  0.00       NaN       NaN       NaN        NaN\n",
      "14      61.37 -1.43  0.00  1.43       NaN       NaN       NaN        NaN\n",
      "15      62.50  1.13  1.13  0.00  0.842857  0.292857  2.878049  74.213836\n",
      "16      62.57  0.07  0.07  0.00  0.787653  0.271939  2.896435  74.335516\n",
      "17      60.80 -1.77  0.00  1.77  0.731392  0.378943  1.930084  65.871286\n",
      "18      59.37 -1.43  0.00  1.43  0.679150  0.454019  1.495863  59.933704\n",
      "19      60.35  0.98  0.98  0.00  0.700639  0.421589  1.661902  62.432876\n",
      "20      62.35  2.00  2.00  0.00  0.793451  0.391475  2.026822  66.962047\n",
      "21      62.17 -0.18  0.00  0.18  0.736776  0.376370  1.957584  66.188617\n",
      "22      62.55  0.38  0.38  0.00  0.711292  0.349486  2.035249  67.053772\n",
      "23      64.55  2.00  2.00  0.00  0.803342  0.324523  2.475455  71.226792\n",
      "24      64.37 -0.18  0.00  0.18  0.745961  0.314200  2.374159  70.362986\n",
      "25      65.30  0.93  0.93  0.00  0.759106  0.291757  2.601844  72.236440\n",
      "26      64.42 -0.88  0.00  0.88  0.704884  0.333774  2.111859  67.864864\n",
      "27      62.90 -1.52  0.00  1.52  0.654536  0.418505  1.563986  60.998221\n",
      "28      61.60 -1.30  0.00  1.30  0.607783  0.481469  1.262352  55.798210\n",
      "29      62.05  0.45  0.45  0.00  0.596513  0.447078  1.334247  57.159636\n",
      "30      60.05 -2.00  0.00  2.00  0.553905  0.558001  0.992659  49.815793\n",
      "31      59.70 -0.35  0.00  0.35  0.514340  0.543144  0.946968  48.638097\n",
      "32      60.90  1.20  1.20  0.00  0.563316  0.504348  1.116919  52.761538\n",
      "33      60.25 -0.65  0.00  0.65  0.523079  0.514752  1.016177  50.401189\n",
      "34      58.27 -1.98  0.00  1.98  0.485716  0.619412  0.784157  43.951108\n",
      "35      58.70  0.43  0.43  0.00  0.481736  0.575169  0.837557  45.579922\n",
      "36      57.72 -0.98  0.00  0.98  0.447327  0.604085  0.740503  42.545340\n",
      "37      58.10  0.38  0.38  0.00  0.442518  0.560936  0.788891  44.099456\n",
      "38      58.20  0.10  0.10  0.00  0.418052  0.520869  0.802605  44.524721\n"
     ]
    }
   ],
   "source": [
    "# Calculate RSI\n",
    "df['rsi'] = 100 - (100 / (1.0 + df['rs']))\n",
    "# View Result\n",
    "print(df)"
   ]
  },
  {
   "cell_type": "code",
   "execution_count": 10,
   "id": "2eac87bf",
   "metadata": {},
   "outputs": [],
   "source": [
    "# Save dataframe as CSV\n",
    "df.to_csv('wilder-rsi-pandas-output.csv')"
   ]
  },
  {
   "cell_type": "code",
   "execution_count": 13,
   "id": "57ec2c20",
   "metadata": {},
   "outputs": [],
   "source": [
    "import pandas_ta as ta\n",
    "# Load the data\n",
    "df = pd.read_csv('wilder-rsi-data.csv', header=0).set_index(['period'])"
   ]
  },
  {
   "cell_type": "code",
   "execution_count": 18,
   "id": "19f717b9",
   "metadata": {},
   "outputs": [
    {
     "name": "stdout",
     "output_type": "stream",
     "text": [
      "        price  RSI_38     RSI_14\n",
      "period                          \n",
      "1       54.80     NaN        NaN\n",
      "2       56.80     NaN        NaN\n",
      "3       57.85     NaN        NaN\n",
      "4       59.85     NaN        NaN\n",
      "5       60.57     NaN        NaN\n",
      "6       61.10     NaN        NaN\n",
      "7       62.17     NaN        NaN\n",
      "8       60.60     NaN        NaN\n",
      "9       62.35     NaN        NaN\n",
      "10      62.15     NaN        NaN\n",
      "11      62.35     NaN        NaN\n",
      "12      61.45     NaN        NaN\n",
      "13      62.80     NaN        NaN\n",
      "14      61.37     NaN        NaN\n",
      "15      62.50     NaN  68.701706\n",
      "16      62.57     NaN  68.936534\n",
      "17      60.80     NaN  57.241560\n",
      "18      59.37     NaN  49.879205\n",
      "19      60.35     NaN  54.224444\n",
      "20      62.35     NaN  61.550568\n",
      "21      62.17     NaN  60.610379\n",
      "22      62.55     NaN  61.932388\n",
      "23      64.55     NaN  68.016644\n",
      "24      64.37     NaN  66.979072\n",
      "25      65.30     NaN  69.562559\n",
      "26      64.42     NaN  64.426106\n",
      "27      62.90     NaN  56.645732\n",
      "28      61.60     NaN  50.975691\n",
      "29      62.05     NaN  52.739185\n",
      "30      60.05     NaN  44.992669\n",
      "31      59.70     NaN  43.780735\n",
      "32      60.90     NaN  48.866332\n",
      "33      60.25     NaN  46.416984\n",
      "34      58.27     NaN  39.862457\n",
      "35      58.70     NaN  41.785048\n",
      "36      57.72     NaN  38.744879\n",
      "37      58.10     NaN  40.551068\n",
      "38      58.20     NaN  41.043733\n"
     ]
    }
   ],
   "source": [
    "# Calculate the RSI via pandas_ta\n",
    "df.ta.rsi(close='price', length=14, append=True)\n",
    "\n",
    "# View the result\n",
    "print(df)"
   ]
  },
  {
   "cell_type": "code",
   "execution_count": 15,
   "id": "5fa4cffa",
   "metadata": {},
   "outputs": [
    {
     "name": "stdout",
     "output_type": "stream",
     "text": [
      "Pandas TA - Technical Analysis Indicators - v0.3.14b0\n",
      "Total Indicators & Utilities: 205\n",
      "Abbreviations:\n",
      "    aberration, above, above_value, accbands, ad, adosc, adx, alma, amat, ao, aobv, apo, aroon, atr, bbands, below, below_value, bias, bop, brar, cci, cdl_pattern, cdl_z, cfo, cg, chop, cksp, cmf, cmo, coppock, cross, cross_value, cti, decay, decreasing, dema, dm, donchian, dpo, ebsw, efi, ema, entropy, eom, er, eri, fisher, fwma, ha, hilo, hl2, hlc3, hma, hwc, hwma, ichimoku, increasing, inertia, jma, kama, kc, kdj, kst, kurtosis, kvo, linreg, log_return, long_run, macd, mad, massi, mcgd, median, mfi, midpoint, midprice, mom, natr, nvi, obv, ohlc4, pdist, percent_return, pgo, ppo, psar, psl, pvi, pvo, pvol, pvr, pvt, pwma, qqe, qstick, quantile, rma, roc, rsi, rsx, rvgi, rvi, short_run, sinwma, skew, slope, sma, smi, squeeze, squeeze_pro, ssf, stc, stdev, stoch, stochrsi, supertrend, swma, t3, td_seq, tema, thermo, tos_stdevall, trima, trix, true_range, tsi, tsignals, ttm_trend, ui, uo, variance, vhf, vidya, vortex, vp, vwap, vwma, wcp, willr, wma, xsignals, zlma, zscore\n",
      "\n",
      "Candle Patterns:\n",
      "    2crows, 3blackcrows, 3inside, 3linestrike, 3outside, 3starsinsouth, 3whitesoldiers, abandonedbaby, advanceblock, belthold, breakaway, closingmarubozu, concealbabyswall, counterattack, darkcloudcover, doji, dojistar, dragonflydoji, engulfing, eveningdojistar, eveningstar, gapsidesidewhite, gravestonedoji, hammer, hangingman, harami, haramicross, highwave, hikkake, hikkakemod, homingpigeon, identical3crows, inneck, inside, invertedhammer, kicking, kickingbylength, ladderbottom, longleggeddoji, longline, marubozu, matchinglow, mathold, morningdojistar, morningstar, onneck, piercing, rickshawman, risefall3methods, separatinglines, shootingstar, shortline, spinningtop, stalledpattern, sticksandwich, takuri, tasukigap, thrusting, tristar, unique3river, upsidegap2crows, xsidegap3methods\n"
     ]
    }
   ],
   "source": [
    "df.ta.indicators()"
   ]
  },
  {
   "cell_type": "code",
   "execution_count": 19,
   "id": "f03a17e3",
   "metadata": {},
   "outputs": [],
   "source": [
    "length = 14"
   ]
  },
  {
   "cell_type": "code",
   "execution_count": 22,
   "id": "b24d4b57",
   "metadata": {},
   "outputs": [
    {
     "ename": "NameError",
     "evalue": "name 'positive' is not defined",
     "output_type": "error",
     "traceback": [
      "\u001b[1;31m---------------------------------------------------------------------------\u001b[0m",
      "\u001b[1;31mNameError\u001b[0m                                 Traceback (most recent call last)",
      "Cell \u001b[1;32mIn[22], line 2\u001b[0m\n\u001b[0;32m      1\u001b[0m \u001b[38;5;66;03m# pandas_ta gain/loss average calculations\u001b[39;00m\n\u001b[1;32m----> 2\u001b[0m positive_avg \u001b[38;5;241m=\u001b[39m ta\u001b[38;5;241m.\u001b[39mrma(\u001b[43mpositive\u001b[49m, length\u001b[38;5;241m=\u001b[39mlength)\n\u001b[0;32m      3\u001b[0m negative_avg \u001b[38;5;241m=\u001b[39m ta\u001b[38;5;241m.\u001b[39mrma(negative, length\u001b[38;5;241m=\u001b[39mlength)\n\u001b[0;32m      4\u001b[0m \u001b[38;5;66;03m# the underlying ram function where\u001b[39;00m\n\u001b[0;32m      5\u001b[0m \u001b[38;5;66;03m# 'close' is the column from which values\u001b[39;00m\n\u001b[0;32m      6\u001b[0m \u001b[38;5;66;03m# are calculated ('gain' and 'loss') using\u001b[39;00m\n\u001b[0;32m      7\u001b[0m \u001b[38;5;66;03m# pandas ewn() method.\u001b[39;00m\n",
      "\u001b[1;31mNameError\u001b[0m: name 'positive' is not defined"
     ]
    }
   ],
   "source": [
    "# pandas_ta gain/loss average calculations\n",
    "positive_avg = ta.rma(positive, length=length)\n",
    "negative_avg = ta.rma(negative, length=length)\n",
    "# the underlying ram function where\n",
    "# 'close' is the column from which values\n",
    "# are calculated ('gain' and 'loss') using\n",
    "# pandas ewn() method.\n",
    "ta.rma = close.ewm(alpha=alpha, min_periods=length).mean()"
   ]
  },
  {
   "cell_type": "code",
   "execution_count": null,
   "id": "1d7a8fa9",
   "metadata": {},
   "outputs": [],
   "source": []
  }
 ],
 "metadata": {
  "kernelspec": {
   "display_name": "Python 3 (ipykernel)",
   "language": "python",
   "name": "python3"
  },
  "language_info": {
   "codemirror_mode": {
    "name": "ipython",
    "version": 3
   },
   "file_extension": ".py",
   "mimetype": "text/x-python",
   "name": "python",
   "nbconvert_exporter": "python",
   "pygments_lexer": "ipython3",
   "version": "3.10.9"
  }
 },
 "nbformat": 4,
 "nbformat_minor": 5
}
